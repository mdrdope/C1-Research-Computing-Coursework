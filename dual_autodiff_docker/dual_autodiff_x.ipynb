{
 "cells": [
  {
   "cell_type": "markdown",
   "metadata": {},
   "source": [
    "# Tutorial: Using `dual_autodiff_x`\n",
    "\n",
    "This notebook only uses dual_autodiff_x\n"
   ]
  },
  {
   "cell_type": "code",
   "execution_count": 1,
   "metadata": {},
   "outputs": [
    {
     "name": "stdout",
     "output_type": "stream",
     "text": [
      "Created dual numbers:\n",
      "x = Dual(real=2.0, dual=1.0)\n",
      "y = Dual(real=3.0, dual=0.5)\n"
     ]
    }
   ],
   "source": [
    "# Importing the packages\n",
    "import math\n",
    "import dual_autodiff_x.dual as dfx\n",
    "\n",
    "# Let's create dual numbers using both implementations\n",
    "x = dfx.Dual(2.0, 1.0)    # Using dual_autodiff\n",
    "y = dfx.Dual(3.0, 0.5)   # Using dual_autodiff_x\n",
    "\n",
    "print(\"Created dual numbers:\")\n",
    "print(\"x =\", x)\n",
    "print(\"y =\", y)\n"
   ]
  },
  {
   "cell_type": "markdown",
   "metadata": {},
   "source": [
    "## Basic Arithmetic with Dual Numbers\n",
    "\n",
    "Dual numbers can be added, subtracted, multiplied, and divided just like regular numbers. The real part behaves like a normal number, and the dual part tracks the derivative information.\n",
    "\n",
    "- **Addition**: (a + bε) + (c + dε) = (a+c) + (b+d)ε\n",
    "- **Multiplication**: (a + bε) * (c + dε) = (a*c) + (a*d + b*c)ε\n",
    "\n",
    "We can also add and multiply dual numbers by scalars. Let’s try out these operations and see the results.\n"
   ]
  },
  {
   "cell_type": "code",
   "execution_count": 2,
   "metadata": {},
   "outputs": [
    {
     "name": "stdout",
     "output_type": "stream",
     "text": [
      "Addition:         Dual(real=5.0, dual=1.5)\n",
      "Subtraction:      Dual(real=-1.0, dual=0.5)\n",
      "Multiplication:   Dual(real=6.0, dual=4.0)\n",
      "Division:         Dual(real=0.6666666666666666, dual=0.2222222222222222)\n",
      "Add scalar (x+5): Dual(real=7.0, dual=1.0)\n"
     ]
    }
   ],
   "source": [
    "# Basic operations\n",
    "addition = x + y\n",
    "subtraction = x - y\n",
    "multiplication = x * y\n",
    "division = x / y\n",
    "\n",
    "print(\"Addition:        \", addition)\n",
    "print(\"Subtraction:     \", subtraction)\n",
    "print(\"Multiplication:  \", multiplication)\n",
    "print(\"Division:        \", division)\n",
    "\n",
    "# Also demonstrate addition with a scalar\n",
    "add_scalar = x + 5.0\n",
    "print(\"Add scalar (x+5):\", add_scalar)\n"
   ]
  },
  {
   "cell_type": "markdown",
   "metadata": {},
   "source": [
    "## Computing Derivatives with Dual Numbers\n",
    "\n",
    "One of the main advantages of using dual numbers is their ability to compute derivatives automatically. If we represent `x` as `x = a + ε`, where `ε` is the dual unit, then for a function `f(x)`, substituting `x = a + 1*ε` gives us:\n",
    "\n",
    "- `f(x).real` = f(a)\n",
    "- `f(x).dual` = f'(a)\n",
    "\n",
    "To illustrate this, consider the function:\n",
    "\n",
    "$$\n",
    "f(x) = \\sin(x) + x^2\n",
    "$$\n",
    "\n",
    "We know the analytical derivative is:\n",
    "\n",
    "$$\n",
    "f'(x) = \\cos(x) + 2x\n",
    "$$\n",
    "\n",
    "We will:\n",
    "1. Compute the derivative using dual numbers.\n",
    "2. Compute the analytical derivative using `math.cos` and compare.\n"
   ]
  },
  {
   "cell_type": "code",
   "execution_count": 3,
   "metadata": {},
   "outputs": [
    {
     "name": "stdout",
     "output_type": "stream",
     "text": [
      "Function value at x=1.5: 3.2474949866040546\n",
      "Dual-based derivative:    3.070737201667703\n",
      "Analytical derivative:    3.070737201667703\n",
      "Absolute error:           0.0\n"
     ]
    }
   ],
   "source": [
    "def f(u):\n",
    "    # f(x) = sin(x) + x^2\n",
    "    return u.sin() + u**2\n",
    "\n",
    "# Let's pick a point to evaluate, say x = 1.5\n",
    "x_val = 1.5\n",
    "\n",
    "# Create a dual number with dual part = 1.0 to track the derivative\n",
    "x_dual = dfx.Dual(x_val, 1.0)\n",
    "result = f(x_dual)\n",
    "\n",
    "# Extract the computed derivative from dual number\n",
    "dual_derivative = result.dual\n",
    "\n",
    "# Compute the analytical derivative\n",
    "analytic_derivative = math.cos(x_val) + 2*x_val\n",
    "\n",
    "print(\"Function value at x=1.5:\", result.real)\n",
    "print(\"Dual-based derivative:   \", dual_derivative)\n",
    "print(\"Analytical derivative:   \", analytic_derivative)\n",
    "print(\"Absolute error:          \", abs(dual_derivative - analytic_derivative))\n"
   ]
  },
  {
   "cell_type": "markdown",
   "metadata": {},
   "source": [
    "## Using `dual_autodiff_x`\n",
    "\n",
    "The `dual_autodiff_x` package provides an alternative implementation of dual numbers, intended to be faster than the pure Python implementation in `dual_autodiff`. While the usage is identical—offering the same class `Dual` and similar methods—`dual_autodiff_x` uses a compiled extension (e.g., via Cython) to improve performance.\n",
    "\n",
    "Below, we will demonstrate how to use `dual_autodiff_x` just like `dual_autodiff` and then compare their performance by timing multiple derivative evaluations.\n"
   ]
  },
  {
   "cell_type": "code",
   "execution_count": 4,
   "metadata": {},
   "outputs": [
    {
     "name": "stdout",
     "output_type": "stream",
     "text": [
      "Time using dual_autodiff (df):        0.04429090000000002 seconds\n",
      "Time using dual_autodiff_x (dfx):     0.04536069999999981 seconds\n",
      "Speed-up of dual_autodiff_x over df: ~0.98x\n"
     ]
    }
   ],
   "source": [
    "import timeit\n",
    "import dual_autodiff_x.dual as dfx\n",
    "\n",
    "# We'll use the same function as before: f(x) = sin(x) + x^2\n",
    "def f(u):\n",
    "    return u.sin() + u**2\n",
    "\n",
    "\n",
    "x_df = dfx.Dual(1.5, 1.0)\n",
    "\n",
    "\n",
    "x_dfx = dfx.Dual(1.5, 1.0)\n",
    "\n",
    "# Time the evaluation of f(x) and extraction of the derivative 100000 times\n",
    "iterations = 100000\n",
    "time_df = timeit.timeit(lambda: f(x_df).dual, number=iterations)\n",
    "time_dfx = timeit.timeit(lambda: f(x_dfx).dual, number=iterations)\n",
    "\n",
    "print(\"Time using dual_autodiff (df):       \", time_df, \"seconds\")\n",
    "print(\"Time using dual_autodiff_x (dfx):    \", time_dfx, \"seconds\")\n",
    "\n",
    "speedup = time_df / time_dfx if time_dfx > 0 else float('inf')\n",
    "print(f\"Speed-up of dual_autodiff_x over df: ~{speedup:.2f}x\")\n"
   ]
  },
  {
   "cell_type": "markdown",
   "metadata": {},
   "source": [
    "## Key Takeaways\n",
    "\n",
    "- Dual numbers automatically track derivative information without the need for symbolic or numerical differentiation.\n",
    "- Using a dual number `x = a + 1*ε`, evaluating a function `f(x)` provides:\n",
    "  - The function value in `f(x).real`.\n",
    "  - The derivative value in `f(x).dual`.\n",
    "\n",
    "- **`dual_autodiff`** (df): A pure Python implementation that is easy to use and understand.\n",
    "- **`dual_autodiff_x`** (dfx): A faster, optimized implementation of dual numbers that leverages compiled code for performance gains.\n",
    "\n",
    "This approach makes differentiation as simple as writing the original function, eliminating the need for manually computing derivatives. Dual numbers are particularly useful for automatic differentiation in complex mathematical models. \n"
   ]
  }
 ],
 "metadata": {
  "kernelspec": {
   "display_name": "c1_cw_test",
   "language": "python",
   "name": "python3"
  },
  "language_info": {
   "codemirror_mode": {
    "name": "ipython",
    "version": 3
   },
   "file_extension": ".py",
   "mimetype": "text/x-python",
   "name": "python",
   "nbconvert_exporter": "python",
   "pygments_lexer": "ipython3",
   "version": "3.9.21"
  }
 },
 "nbformat": 4,
 "nbformat_minor": 2
}
